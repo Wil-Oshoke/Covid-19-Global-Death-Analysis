{
 "cells": [
  {
   "cell_type": "markdown",
   "id": "3f65d66e-d70e-4509-8fa1-fface58ce6aa",
   "metadata": {},
   "source": [
    "# Global COVID-19 Death Data Analysis by Wil Oshoke"
   ]
  },
  {
   "cell_type": "markdown",
   "id": "22fb4f1e-3062-418a-bf80-4df8b5296b8d",
   "metadata": {},
   "source": [
    "## Step 1: Installing & Importing Necessary Python Libraries "
   ]
  },
  {
   "cell_type": "markdown",
   "id": "93c890c2-077c-4935-9e6a-b48f1ec60b0f",
   "metadata": {},
   "source": [
    "### Step 1.1: Installing All Required Libraries"
   ]
  },
  {
   "cell_type": "code",
   "execution_count": 4,
   "id": "7db6f92b-d18e-4cb9-9502-e45f19193780",
   "metadata": {},
   "outputs": [],
   "source": [
    "!pip install pandas -q\n",
    "!pip install numpy -q\n",
    "!pip install matplotlib -q\n",
    "!pip install seaborn -q\n",
    "!pip install plotly -q\n",
    "!pip install folium -q\n",
    "!pip install scikit-learn -q\n",
    "!pip install statsmodels -q"
   ]
  },
  {
   "cell_type": "markdown",
   "id": "668f754e-952e-429f-98f2-de3db72a98e2",
   "metadata": {},
   "source": [
    "### Step 1.2: Importing Libraries with Aliases"
   ]
  },
  {
   "cell_type": "code",
   "execution_count": 5,
   "id": "8e0d70f8-9c9c-4a39-9a75-7c7f53f7c7df",
   "metadata": {},
   "outputs": [],
   "source": [
    "import pandas as pd  # Importing pandas for data manipulation\n",
    "import numpy as np  # Importing numpy for numerical operations\n",
    "import matplotlib.pyplot as plt   # Importing pyplot from matplotlib for plotting\n",
    "import seaborn as sns   # Importing seaborn for statistical data visualization\n",
    "import plotly.express as px   # Importing plotly.express for interactive plots\n",
    "import folium   # Importing folium for interactive maps\n",
    "import sklearn   # Importing scikit-learn for machine learning\n",
    "import statsmodels.api as sm   # Importing statsmodels for statistical modeling"
   ]
  },
  {
   "cell_type": "markdown",
   "id": "b405632d-015f-4e6c-bb41-1da43b9c799a",
   "metadata": {},
   "source": [
    "## Step 2: Data Analyses Guide"
   ]
  },
  {
   "cell_type": "markdown",
   "id": "e09a2ca9-57a2-49f1-9419-28a8116c50f7",
   "metadata": {},
   "source": [
    "### Step 2.1: Data Loading and Cleaning"
   ]
  },
  {
   "cell_type": "markdown",
   "id": "f4d017f1-f815-46a5-b978-77bdfe77427d",
   "metadata": {},
   "source": [
    "#### Explore the dataset with .info(), .head() and .describe()"
   ]
  },
  {
   "cell_type": "code",
   "execution_count": 191,
   "id": "c4b2d887-8bb9-4dee-8271-a9cd3a815f85",
   "metadata": {},
   "outputs": [],
   "source": [
    "url = \"https://raw.githubusercontent.com/Wil-Oshoke/Covid-19-Global-Death-Analysis/refs/heads/main/RAW_global_deaths.csv\"\n",
    "df = pd.read_csv(url)\n",
    "#df.head.info()\n",
    "#df.describe()\n",
    "#df.head(15)"
   ]
  },
  {
   "cell_type": "markdown",
   "id": "4f45a9f9-36c2-424e-a516-25b2fb1b7a10",
   "metadata": {},
   "source": [
    "### Step 2.2: Exploratory Data Analysis (EDA)"
   ]
  },
  {
   "cell_type": "markdown",
   "id": "1ca4bc5c-1009-449d-9de1-9d76202803ef",
   "metadata": {},
   "source": [
    "#### Viewing all Columns and Renaming the Cummulative Deaths Per Country"
   ]
  },
  {
   "cell_type": "code",
   "execution_count": 100,
   "id": "26bf833c-2fa1-4268-ae6f-7afc010ce2af",
   "metadata": {},
   "outputs": [],
   "source": [
    "# View all column names\n",
    "df.columns\n",
    "\n",
    "# Rename the last column to \"Total Deaths\"\n",
    "df.rename(columns={df.columns[-1]: \"Total Deaths\"}, inplace=True)"
   ]
  },
  {
   "cell_type": "markdown",
   "id": "e0031c85-19d1-40cb-9619-34b0e14dc60c",
   "metadata": {},
   "source": [
    "#### Selecting the Relevant Columns & Aggregating the 'Country/Region' Column to Sum the Total Deaths for Each Country"
   ]
  },
  {
   "cell_type": "code",
   "execution_count": 198,
   "id": "aa19ef4d-e9d0-4155-be2d-a3ecffb1a4cd",
   "metadata": {
    "scrolled": true
   },
   "outputs": [],
   "source": [
    "# Group by 'Country/Region' and sum the death counts for all dates\n",
    "aggregated_data = df.groupby('Country/Region').sum(numeric_only=True).reset_index()\n",
    "\n",
    "#aggregated_data.head(50)"
   ]
  },
  {
   "cell_type": "markdown",
   "id": "81f91002-1704-4e40-b010-de94d90052e6",
   "metadata": {},
   "source": [
    "#### Checking & Handling Duplicates, Missing Data and Empty Strings"
   ]
  },
  {
   "cell_type": "code",
   "execution_count": 108,
   "id": "f3eeff97-4580-4e40-96d3-032358754d03",
   "metadata": {},
   "outputs": [],
   "source": [
    "Duplicated_Values = aggregated_data.duplicated().sum()\n",
    "Duplicated_Values\n",
    "\n",
    "missing_values = aggregated_data.isnull().sum()\n",
    "#missing_values\n",
    "\n",
    "Empty_Strings = (aggregated_data == '').sum() \n",
    "#Empty_Strings\n",
    "\n",
    "# the dataset seem to have no duplicated values, missing values or empty strings in the relevant cells\n",
    "# therefore no need to dropNA"
   ]
  },
  {
   "cell_type": "code",
   "execution_count": 222,
   "id": "acbab843-fdde-44fb-a81b-eafce546fdbf",
   "metadata": {
    "scrolled": true
   },
   "outputs": [],
   "source": [
    "import pandas as pd\n",
    "\n",
    "# Check if 'Total' row already exists and remove it\n",
    "if 'Total' in aggregated_data.index:\n",
    "    aggregated_data = aggregated_data.drop('Total')\n",
    "\n",
    "# Calculate the sum of all columns except the last one\n",
    "sum_row = aggregated_data.iloc[:, 3:-1].sum()\n",
    "\n",
    "# Create a new row with the sums\n",
    "# Convert the Series to a DataFrame and set the index to a meaningful label (e.g., \"Total\")\n",
    "sum_row_df = sum_row.to_frame().T\n",
    "sum_row_df.index = ['Total']  # Set the index name to 'Total'\n",
    "\n",
    "# Concatenate the new row to the original DataFrame\n",
    "aggregated_data = pd.concat([aggregated_data, sum_row_df], ignore_index=False)\n",
    "\n",
    "# Print the updated DataFrame\n",
    "#aggregated_data.tail()\n",
    "#aggregated_data.loc[aggregated_data['Country/Region'] == 'US']"
   ]
  },
  {
   "cell_type": "markdown",
   "id": "1b2662ef-a6fc-427d-b94b-e8fa5bfdb5f9",
   "metadata": {},
   "source": [
    "#### Time Series Analysis: Total deaths over time"
   ]
  },
  {
   "cell_type": "code",
   "execution_count": null,
   "id": "a9458b57-a9c8-478c-92ea-05313edd891a",
   "metadata": {
    "scrolled": true
   },
   "outputs": [],
   "source": [
    "import pandas as pd\n",
    "import matplotlib.pyplot as plt\n",
    "from matplotlib.ticker import FuncFormatter\n",
    "\n",
    "# Assuming 'aggregated_data' has already been defined and processed\n",
    "\n",
    "# Check if 'Total' row already exists and remove it\n",
    "if 'Total' in aggregated_data.index:\n",
    "    aggregated_data = aggregated_data.drop('Total')\n",
    "\n",
    "# Calculate the sum of all columns except the last one (assuming last column is not numeric)\n",
    "sum_row = aggregated_data.iloc[:, 3:-1].sum()\n",
    "\n",
    "# Create a new row with the sums\n",
    "sum_row_df = sum_row.to_frame().T\n",
    "sum_row_df.index = ['Total']  # Set the index name to 'Total'\n",
    "\n",
    "# Concatenate the new row to the original DataFrame\n",
    "aggregated_data = pd.concat([aggregated_data, sum_row_df], ignore_index=False)\n",
    "\n",
    "# Extract and preprocess the total deaths row\n",
    "total_deaths = aggregated_data.loc['Total'].iloc[1:]  # Skip the 'Country/Region' label\n",
    "\n",
    "# Convert index to datetime\n",
    "total_deaths.index = pd.to_datetime(total_deaths.index, format='%m/%d/%Y', errors='coerce')\n",
    "\n",
    "# Filter from January 2020 onwards\n",
    "total_deaths = total_deaths[total_deaths.index >= '2020-01-01']\n",
    "\n",
    "# Plotting the total deaths over time\n",
    "plt.figure(figsize=(12, 6))\n",
    "total_deaths.plot(marker='o', linestyle='-', color='blue')\n",
    "plt.title(\"Total Global Covid-19 Deaths Over Time\")\n",
    "plt.xlabel(\"Date\")\n",
    "plt.ylabel(\"Total Deaths\")\n",
    "\n",
    "# Format y-axis with commas\n",
    "def comma_formatter(x, _):\n",
    "    return f'{int(x):,}'\n",
    "\n",
    "plt.gca().yaxis.set_major_formatter(FuncFormatter(comma_formatter))\n",
    "\n",
    "# Show grid\n",
    "plt.grid(True)\n",
    "\n",
    "# Show the plot\n",
    "plt.show()"
   ]
  },
  {
   "cell_type": "markdown",
   "id": "66550c86-7b4e-4ec5-a7f7-068309b7dd7c",
   "metadata": {},
   "source": [
    "#### Bar Chart: Top 10 countries by total deaths"
   ]
  },
  {
   "cell_type": "code",
   "execution_count": null,
   "id": "f84f98d2-8275-46e5-9ce4-4d198f71615e",
   "metadata": {},
   "outputs": [],
   "source": [
    "import pandas as pd\n",
    "import matplotlib.pyplot as plt\n",
    "\n",
    "# Assuming aggregated_data has a column 'Total Deaths' at the end\n",
    "# Rename the last column if necessary\n",
    "aggregated_data.columns = [*aggregated_data.columns[:-1], 'Total Deaths']  # Ensure last column is 'Total Deaths'\n",
    "\n",
    "# Exclude the 'Total' row\n",
    "aggregated_data_no_total = aggregated_data[aggregated_data['Country/Region'] != 'Total']\n",
    "\n",
    "# Sort the DataFrame by 'Total Deaths' in descending order and get the top 10 countries\n",
    "top_countries = aggregated_data_no_total.nlargest(10, 'Total Deaths')\n",
    "\n",
    "# Plotting the bar chart\n",
    "plt.figure(figsize=(12, 6))\n",
    "bars = plt.barh(top_countries['Country/Region'], top_countries['Total Deaths'], color='grey')\n",
    "plt.xlabel(\"Total Deaths\")\n",
    "plt.title(\"Top 10 Countries by Total Deaths (Excluding Total)\")\n",
    "plt.gca().invert_yaxis()  # Invert y-axis to have the country with the highest deaths on top\n",
    "\n",
    "# Format x-axis with commas for readability\n",
    "plt.gca().xaxis.set_major_formatter(plt.FuncFormatter(lambda x, _: f'{int(x):,}'))\n",
    "\n",
    "# Annotate each bar with the corresponding total deaths\n",
    "for bar in bars:\n",
    "    plt.text(bar.get_width(), bar.get_y() + bar.get_height() / 2, \n",
    "             f'{int(bar.get_width()):,}', va='center', ha='left')\n",
    "\n",
    "plt.grid(axis='x')\n",
    "plt.show()"
   ]
  },
  {
   "cell_type": "code",
   "execution_count": null,
   "id": "cf62ee35-1fa0-4d72-a3ba-57b9af89975b",
   "metadata": {},
   "outputs": [],
   "source": []
  }
 ],
 "metadata": {
  "kernelspec": {
   "display_name": "Python 3 (ipykernel)",
   "language": "python",
   "name": "python3"
  },
  "language_info": {
   "codemirror_mode": {
    "name": "ipython",
    "version": 3
   },
   "file_extension": ".py",
   "mimetype": "text/x-python",
   "name": "python",
   "nbconvert_exporter": "python",
   "pygments_lexer": "ipython3",
   "version": "3.12.4"
  }
 },
 "nbformat": 4,
 "nbformat_minor": 5
}
